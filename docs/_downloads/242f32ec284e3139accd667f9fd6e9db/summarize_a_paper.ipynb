{
  "cells": [
    {
      "cell_type": "markdown",
      "metadata": {},
      "source": [
        "\n\n# Summarize a Paper\n\nThis script demonstrates the usage of `AutoSurvey` from the :mod:`auto_research.survey.core` module to:\n\n- Select a PDF file from a specified folder.\n- Retrieve an API key for the LLM.\n- Run an automated survey analysis on the selected PDF using the LLM.\n\nTo get started with the package, you need to set up API keys. For detailed instructions, see `setting_up_api_keys`.\n\nThis script assumes that:\n\n- At least one valid PDF file of the article is available. (located at \"sample_articles/\")\n- A valid `key.json` file is available (located at the current working directory (\"\"))\n\nThe process involves user interaction, including selecting a PDF file.\n\nBelow is an example output from the following input:\n\n- 3\n"
      ]
    },
    {
      "cell_type": "code",
      "execution_count": null,
      "metadata": {
        "collapsed": false
      },
      "outputs": [],
      "source": [
        "from __future__ import annotations\n\nfrom LLM_utils.inquiry import get_api_key\nfrom auto_research.survey.core import AutoSurvey\nfrom auto_research.utils.files import select_pdf_file\n\n\ndef main() -> None:\n    \"\"\"\n    Main function to run the auto survey process.\n\n    This function handles the workflow of selecting a PDF file, getting the API key,\n    and running the survey analysis.\n\n    Example:\n        # Sample usage:\n        main()  # This will start the interactive process\n\n    Parameters\n    ----------\n    None\n\n    Returns\n    -------\n    None\n    \"\"\"\n\n    # Specify the folder containing the target PDF files.\n    sample_folder = \"sample_articles/\"\n\n    # Select a PDF file from the specified folder.\n    selected_file, file_path = select_pdf_file(sample_folder)\n\n    # Retrieve the API key for the LLM.\n    # This script assumes a valid API key is located at the specified path.\n    key = get_api_key(\"\", \"OpenAI\")\n\n    # Initialize the AutoSurvey instance with the specified parameters.\n    auto_survey_instance = AutoSurvey(\n        key, \"gpt-4o-mini\", file_path, False, \"summarize_computer_science\"\n    )\n\n    # Run the automated survey analysis.\n    auto_survey_instance.run()\n\n\nif __name__ == \"__main__\":\n    main()"
      ]
    }
  ],
  "metadata": {
    "kernelspec": {
      "display_name": "Python 3",
      "language": "python",
      "name": "python3"
    },
    "language_info": {
      "codemirror_mode": {
        "name": "ipython",
        "version": 3
      },
      "file_extension": ".py",
      "mimetype": "text/x-python",
      "name": "python",
      "nbconvert_exporter": "python",
      "pygments_lexer": "ipython3",
      "version": "3.10.16"
    }
  },
  "nbformat": 4,
  "nbformat_minor": 0
}