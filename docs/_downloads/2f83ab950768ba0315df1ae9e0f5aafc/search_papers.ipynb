{
  "cells": [
    {
      "cell_type": "markdown",
      "metadata": {},
      "source": [
        "\n\n# Automatically Search and Download Papers\n\nThis script demonstrates the usage of `AutoSearch` from the :mod:`auto_research.search.core` module to:\n\n- Perform a search for research papers based on specified keywords.\n- Retrieve a specified number of articles.\n- Sort the results by relevance or date.\n- Apply filters such as a date cutoff and a minimum score threshold (:mod:`auto_research.search.core.AutoSearch.score_threshold`).\n- Save the downloaded articles and metadata to a specified folder.\n\n\nThis script assumes that:\n\n- The destination folder for storing search results exists or will be created.\n"
      ]
    },
    {
      "cell_type": "code",
      "execution_count": null,
      "metadata": {
        "collapsed": false
      },
      "outputs": [],
      "source": [
        "from auto_research.search.core import AutoSearch\n\n\ndef main() -> None:\n    \"\"\"\n    Main function to execute the AutoSearch process.\n\n    This function initializes the search parameters, creates an instance of the `AutoSearch` class,\n    and runs the search to retrieve and store the articles.\n\n    Parameters\n    ----------\n    None\n\n    Returns\n    -------\n    None\n    \"\"\"\n\n    # Keywords can be a string or a list of strings. If keywords is a string, then perform a\n    # search over the single keyword. If keywords is a list of strings, then perform a\n    # search over each keyword in the list. Same articles from the search based on\n    # different keywords will not be downloaded twice.\n    keywords = [\"Diffusion models\", \"Generative modeling for computer vision\"]\n\n    # Number of articles to retrieve at maximum.\n    num_results = 3\n\n    # Choose one between \"relevance\" and \"date\" for Google Scholar search engine\n    sort_by = \"relevance\"\n\n    # Date cutoff is relevant only when sort_by is set as \"date\".\n    date_cutoff = \"2024-12-01\"\n\n    # Minimum score that the article must have to be downloaded.\n    score_threshold = 0.5\n\n    # Path where the downloaded articles and metadata will be stored.\n    destination_folder = \"search_results\"\n\n    # Initialize the AutoSearch instance with the specified parameters.\n    paper_search = AutoSearch(\n        keywords=keywords,\n        num_results=num_results,\n        sort_by=sort_by,\n        date_cutoff=date_cutoff,\n        score_threshold=score_threshold,\n        destination_folder=destination_folder,\n    )\n\n    # Run the search to retrieve and store the articles.\n    paper_search.run()\n\n\nif __name__ == \"__main__\":\n    main()"
      ]
    }
  ],
  "metadata": {
    "kernelspec": {
      "display_name": "Python 3",
      "language": "python",
      "name": "python3"
    },
    "language_info": {
      "codemirror_mode": {
        "name": "ipython",
        "version": 3
      },
      "file_extension": ".py",
      "mimetype": "text/x-python",
      "name": "python",
      "nbconvert_exporter": "python",
      "pygments_lexer": "ipython3",
      "version": "3.10.16"
    }
  },
  "nbformat": 4,
  "nbformat_minor": 0
}