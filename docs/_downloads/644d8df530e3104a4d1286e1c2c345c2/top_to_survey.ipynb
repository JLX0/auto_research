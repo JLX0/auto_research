{
  "cells": [
    {
      "cell_type": "markdown",
      "metadata": {},
      "source": [
        "\n\n# Automatically converts a topic or question of interests into a survey over relevant papers\n\nWhen searching for research papers, the results from a search engine can vary significantly\ndepending on the specific keywords used, even if those keywords are conceptually similar.\nFor instance, searching for \"LLMs\" versus \"Large Language Models\" may yield different sets\nof papers. Additionally, when experimenting with new keywords, it can be challenging to\nremember whether a particular paper has already been checked. Furthermore, the process\nof downloading papers and organizing them with appropriate filenames can be tedious and\ntime-consuming.\n\nThe function `topic_to_survey` streamlines the entire process by automating several key tasks.\nIt suggests multiple related keywords to ensure comprehensive coverage of the topic,\nmerges duplicate results to avoid redundancy, and automatically names downloaded files\nusing the paper titles for easy reference. Moreover, it leverages LLMs to generate summaries\nof each paper, saving researchers valuable time and effort.\n\nThis script demonstrates the usage of the `topic_to_survey` function from the :mod:`auto_research.applications.surveys` module to:\n\n- Conduct an automated research process based on a user-provided topic.\n- Generate and refine a list of keywords for searching research articles.\n- Retrieve and download articles based on the specified search criteria.\n- Organize and summarize the downloaded articles.\n- Check the code availability of the summarized articles (optional).\n\nTo get started with the package, you need to set up API keys. For detailed instructions, see `setting_up_api_keys`.\n\nThis script assumes that:\n\n- A valid `key.json` file is available (located at the current working directory (\"\"))\n\nThe process involves user interaction, including selecting keywords, summarizing articles, and optionally checking code availability.\n\nBelow is an example output from the following input:\n\n- generate code with LLMs\n- select\n- 1,3\n- select\n- 2,3\n- yes\n"
      ]
    },
    {
      "cell_type": "code",
      "execution_count": null,
      "metadata": {
        "collapsed": false
      },
      "outputs": [],
      "source": [
        "from auto_research.applications.surveys import topic_to_survey\n\n\nif __name__ == \"__main__\":\n    \"\"\"\n    Main execution block for the `topic_to_survey` function.\n\n    This block initializes the `topic_to_survey` function with the specified parameters and runs the automated research process.\n\n    Example:\n        # Sample usage:\n        topic_to_survey(\n            num_results=5,\n            sort_by=\"relevance\",\n            date_cutoff=\"2024-12-01\",\n            score_threshold=0,\n            destination_folder=\"papers\",\n            model=\"gpt-4o-mini\",\n            api_key_path=\"\",\n            api_key_type=\"OpenAI\",\n            organize_files=True,\n            order_by_score=True,\n            zip_folder=True,\n            api_key=None,  # Directly provide the API key as a string. If None, the key will be retrieved from the file.\n        )\n\n    Parameters\n    ----------\n    num_results : int, optional\n        Number of search results to retrieve. Defaults to 30.\n    sort_by : str, optional\n        Sorting criteria for search results. Options: \"relevance\", \"date\". Defaults to \"relevance\".\n    date_cutoff : str, optional\n        Cutoff date for search results. Only articles published before this date will be included. Defaults to \"2024-12-01\". Only relevant when `sort_by` is set as \"date\".\n    score_threshold : float, optional\n        Minimum score threshold for articles. Articles with a score below this will be excluded. Defaults to 0.5.\n    destination_folder : str, optional\n        Folder to store downloaded articles. Defaults to \"papers\".\n    model : str, optional\n        Model to use for summarization and keyword suggestions. Defaults to \"gpt-4o-mini\".\n    api_key_path : str, optional\n        Path to the directory containing the API key. Defaults to \"../\". Set it as \"\" if the file is located at the current directory.\n    api_key_type : str, optional\n        Type of API key to retrieve. Options: \"OpenAI\", \"DeepSeek\". Defaults to \"OpenAI\".\n    organize_files : bool, optional\n        Whether to organize the downloaded articles into subfolders based on their rank and score. Defaults to True.\n    order_by_score : bool, optional\n        Whether to order articles by their score when organizing. Defaults to True.\n    zip_folder : bool, optional\n        Whether to zip the organized folder after processing. Defaults to True.\n    api_key : str, optional\n        Directly provide the API key as a string. If None, the key will be retrieved from the file. Defaults to None.\n\n    Returns\n    -------\n    None\n    \"\"\"\n    topic_to_survey(\n        num_results=5,\n        sort_by=\"relevance\",\n        date_cutoff=\"2024-12-01\",\n        score_threshold=0,\n        destination_folder=\"papers\",\n        model=\"gpt-4o-mini\",\n        api_key_path=\"\",\n        api_key_type=\"OpenAI\",\n        organize_files=True,\n        order_by_score=True,\n        zip_folder=True,\n        api_key=None,\n    )"
      ]
    }
  ],
  "metadata": {
    "kernelspec": {
      "display_name": "Python 3",
      "language": "python",
      "name": "python3"
    },
    "language_info": {
      "codemirror_mode": {
        "name": "ipython",
        "version": 3
      },
      "file_extension": ".py",
      "mimetype": "text/x-python",
      "name": "python",
      "nbconvert_exporter": "python",
      "pygments_lexer": "ipython3",
      "version": "3.10.16"
    }
  },
  "nbformat": 4,
  "nbformat_minor": 0
}