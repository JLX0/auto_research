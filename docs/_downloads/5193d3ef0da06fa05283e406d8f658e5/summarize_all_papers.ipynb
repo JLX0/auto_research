{
  "cells": [
    {
      "cell_type": "markdown",
      "metadata": {},
      "source": [
        "\n\n# Summarize All Papers in a Folder\n\nThis script demonstrates the usage of `AutoSurvey` from :mod:`auto_research.survey.core` module to:\n\n- Iterate through all PDF files in a specified folder.\n- Retrieve an API key for the LLM (Large Language Model).\n- Run an automated survey analysis on each PDF file using the LLM.\n- Accumulate and display the total cost of running the analysis.\n- Print summaries for all processed PDF files.\n\nTo get started with the package, you need to set up API keys. For detailed instructions, see `setting_up_api_keys`.\n\nThis script assumes that:\n\n- At least one valid PDF file of the article is available. (located at \"sample_articles/\")\n- A valid `key.json` file is available (located at the current working directory (\"\"))\n"
      ]
    },
    {
      "cell_type": "code",
      "execution_count": null,
      "metadata": {
        "collapsed": false
      },
      "outputs": [],
      "source": [
        "from __future__ import annotations\n\nfrom LLM_utils.inquiry import get_api_key\nfrom auto_research.survey.core import AutoSurvey\nfrom auto_research.utils.files import get_all_pdf_files\nfrom auto_research.utils.files import print_summaries\n\n\ndef main() -> None:\n    \"\"\"\n    Main function to run the auto survey process over all PDF files in the directory.\n\n    This function handles the workflow of iterating through all PDF files,\n    getting the API key, and running the survey analysis for each file.\n\n    Example:\n        # Sample usage:\n        main()  # This will start the process for all PDFs in the directory\n\n    Parameters\n    ----------\n    None\n\n    Returns\n    -------\n    None\n    \"\"\"\n\n    # Specify the folder containing the target PDF files.\n    sample_folder = \"sample_articles/\"\n\n    try:\n        # Retrieve all PDF files from the specified folder.\n        pdf_files = get_all_pdf_files(sample_folder)\n    except ValueError as e:\n        # Handle the case where no PDF files are found.\n        print(e)\n        return\n\n    # Retrieve the API key for the LLM.\n    # This script assumes a valid API key is located at the specified path.\n    key = get_api_key(\"\", \"OpenAI\")\n\n    # Initialize a variable to accumulate the total cost of running the analysis.\n    final_cost = 0\n\n    # Iterate through each PDF file and run the survey analysis.\n    for file_path in pdf_files:\n        print(f\"Processing file: {file_path}\")\n\n        # Initialize the AutoSurvey instance with the specified parameters.\n        auto_survey_instance = AutoSurvey(\n            key, \"gpt-4o-mini\", file_path, False, \"summarize_computer_science\"\n        )\n\n        # Run the automated survey analysis for the current PDF file.\n        auto_survey_instance.run()\n\n        # Accumulate the cost of running the analysis.\n        final_cost += auto_survey_instance.cost_accumulation\n\n    # Print the total cost for all files.\n    print(f\"Total cost for all files: {final_cost}\")\n\n    # Print summaries for all processed PDF files.\n    print(\"The summaries for all files are printed below:\")\n    print_summaries()\n\n\nif __name__ == \"__main__\":\n    main()"
      ]
    }
  ],
  "metadata": {
    "kernelspec": {
      "display_name": "Python 3",
      "language": "python",
      "name": "python3"
    },
    "language_info": {
      "codemirror_mode": {
        "name": "ipython",
        "version": 3
      },
      "file_extension": ".py",
      "mimetype": "text/x-python",
      "name": "python",
      "nbconvert_exporter": "python",
      "pygments_lexer": "ipython3",
      "version": "3.10.16"
    }
  },
  "nbformat": 4,
  "nbformat_minor": 0
}